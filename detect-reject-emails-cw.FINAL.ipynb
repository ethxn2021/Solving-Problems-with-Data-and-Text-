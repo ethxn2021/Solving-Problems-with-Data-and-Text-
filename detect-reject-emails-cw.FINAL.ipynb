{
 "cells": [
  {
   "cell_type": "markdown",
   "metadata": {
    "jp-MarkdownHeadingCollapsed": true
   },
   "source": [
    "# Comp6481 / 8481 coursework 2024 \n",
    "\n",
    "We will be working with data from https://www.kaggle.com/datasets/sethpoly/application-rejection-emails \n",
    "\n",
    "*Detect Reject Emails* by SethPoly@kaggle\n"
   ]
  },
  {
   "cell_type": "markdown",
   "metadata": {
    "pycharm": {
     "name": "#%% md\n"
    }
   },
   "source": [
    "# Part A\n",
    "\n",
    "This notebook contains the questions for Part A of the practical coursework. \n",
    "\n",
    "Please ensure that this notebook is stored in a folder which also has the `Rejection Data - Sheet1.csv` data file\n",
    "\n",
    "When you answer these questions, include in your submission for Part A your answers and the code that you used. \n",
    "\n",
    "The most straightforward way to do this is to complete Part A within this Jupyter notebook. *Please add your answers and code per question in the indicated cells.*\n",
    "\n",
    "You can instead submit a separate python file for Part A if this is preferable for you, but remember to include:\n",
    "* your code \n",
    "* comments that: \n",
    " * clearly indicate which question each code snippet relates to, \n",
    " * contain the answer to that question.\n",
    "\n",
    "Part A is worth 20 marks in total. Each question is annotated with the number of marks that question is worth. In each question, half the marks are awarded for the code and half the marks are awarded for correct answers to the question.\n",
    "\n",
    "***Cells are provided for you to complete your answers in this notebook. Please do not edit any of the existing code and markdown already provided in this Jupyter notebook.***"
   ]
  },
  {
   "cell_type": "markdown",
   "metadata": {},
   "source": [
    "You are welcome to extend this notebook also for your Part B work, though you could also use a different notebook or python file. Please add any working for Part B at the end of this notebook if you wish to use this notebook for Part B work too.\n"
   ]
  },
  {
   "cell_type": "markdown",
   "metadata": {},
   "source": [
    "**************************************************************************************\n",
    "* Start of code adapted from https://www.kaggle.com/code/sethpoly/detect-reject-emails\n",
    "* The majority of code extracted from the original notebook is commented out below, but included for completeness\n",
    "**************************************************************************************"
   ]
  },
  {
   "cell_type": "markdown",
   "metadata": {},
   "source": [
    "# Detect Reject emails\n",
    "\n",
    "Author: Sethpoly@kaggle\n",
    "\n",
    "Link: https://www.kaggle.com/code/sethpoly/detect-reject-emails"
   ]
  },
  {
   "cell_type": "markdown",
   "metadata": {
    "papermill": {
     "duration": 0.007364,
     "end_time": "2021-02-27T19:54:38.849830",
     "exception": false,
     "start_time": "2021-02-27T19:54:38.842466",
     "status": "completed"
    },
    "tags": []
   },
   "source": [
    "## Used to detect the rejection emails from jobs applied to.\n"
   ]
  },
  {
   "cell_type": "code",
   "execution_count": 2,
   "metadata": {
    "_cell_guid": "b1076dfc-b9ad-4769-8c92-a6c4dae69d19",
    "_uuid": "8f2839f25d086af736a60e9eeb907d3b93b6e0e5",
    "papermill": {
     "duration": 0.06059,
     "end_time": "2021-02-27T19:54:38.917135",
     "exception": false,
     "start_time": "2021-02-27T19:54:38.856545",
     "status": "completed"
    },
    "tags": []
   },
   "outputs": [
    {
     "data": {
      "text/html": [
       "<div>\n",
       "<style scoped>\n",
       "    .dataframe tbody tr th:only-of-type {\n",
       "        vertical-align: middle;\n",
       "    }\n",
       "\n",
       "    .dataframe tbody tr th {\n",
       "        vertical-align: top;\n",
       "    }\n",
       "\n",
       "    .dataframe thead th {\n",
       "        text-align: right;\n",
       "    }\n",
       "</style>\n",
       "<table border=\"1\" class=\"dataframe\">\n",
       "  <thead>\n",
       "    <tr style=\"text-align: right;\">\n",
       "      <th></th>\n",
       "      <th>Email</th>\n",
       "      <th>Status</th>\n",
       "    </tr>\n",
       "  </thead>\n",
       "  <tbody>\n",
       "    <tr>\n",
       "      <th>124</th>\n",
       "      <td>Starting March 17, 2021, eBay will no longer ...</td>\n",
       "      <td>not_reject</td>\n",
       "    </tr>\n",
       "    <tr>\n",
       "      <th>125</th>\n",
       "      <td>Hi Seth,\\n\\nI want to make finding a great rem...</td>\n",
       "      <td>not_reject</td>\n",
       "    </tr>\n",
       "    <tr>\n",
       "      <th>126</th>\n",
       "      <td>Hello Seth,\\n\\nI just wanted to take a second ...</td>\n",
       "      <td>not_reject</td>\n",
       "    </tr>\n",
       "    <tr>\n",
       "      <th>127</th>\n",
       "      <td>Your free YouMail plan includes 20 in-app tran...</td>\n",
       "      <td>not_reject</td>\n",
       "    </tr>\n",
       "    <tr>\n",
       "      <th>128</th>\n",
       "      <td>\\nSupport resources for developers at all leve...</td>\n",
       "      <td>not_reject</td>\n",
       "    </tr>\n",
       "  </tbody>\n",
       "</table>\n",
       "</div>"
      ],
      "text/plain": [
       "                                                 Email      Status\n",
       "124   Starting March 17, 2021, eBay will no longer ...  not_reject\n",
       "125  Hi Seth,\\n\\nI want to make finding a great rem...  not_reject\n",
       "126  Hello Seth,\\n\\nI just wanted to take a second ...  not_reject\n",
       "127  Your free YouMail plan includes 20 in-app tran...  not_reject\n",
       "128  \\nSupport resources for developers at all leve...  not_reject"
      ]
     },
     "execution_count": 2,
     "metadata": {},
     "output_type": "execute_result"
    }
   ],
   "source": [
    "import numpy as np # linear algebra\n",
    "import pandas as pd # data processing, CSV file I/O (e.g. pd.read_csv).\n",
    "from gensim.models import Word2Vec\n",
    "import nltk\n",
    "\n",
    "df = pd.read_csv('Rejection Data - Sheet1.csv')\n",
    "df.tail()"
   ]
  },
  {
   "cell_type": "code",
   "execution_count": 5,
   "metadata": {
    "papermill": {
     "duration": 0.19294,
     "end_time": "2021-02-27T19:54:39.117736",
     "exception": false,
     "start_time": "2021-02-27T19:54:38.924796",
     "status": "completed"
    },
    "tags": []
   },
   "outputs": [
    {
     "data": {
      "text/html": [
       "<div>\n",
       "<style scoped>\n",
       "    .dataframe tbody tr th:only-of-type {\n",
       "        vertical-align: middle;\n",
       "    }\n",
       "\n",
       "    .dataframe tbody tr th {\n",
       "        vertical-align: top;\n",
       "    }\n",
       "\n",
       "    .dataframe thead th {\n",
       "        text-align: right;\n",
       "    }\n",
       "</style>\n",
       "<table border=\"1\" class=\"dataframe\">\n",
       "  <thead>\n",
       "    <tr style=\"text-align: right;\">\n",
       "      <th></th>\n",
       "      <th>Email</th>\n",
       "      <th>Status</th>\n",
       "    </tr>\n",
       "  </thead>\n",
       "  <tbody>\n",
       "    <tr>\n",
       "      <th>124</th>\n",
       "      <td>starting march   ebay will no longer offer se...</td>\n",
       "      <td>not_reject</td>\n",
       "    </tr>\n",
       "    <tr>\n",
       "      <th>125</th>\n",
       "      <td>hi seth  i want to make finding a great remote...</td>\n",
       "      <td>not_reject</td>\n",
       "    </tr>\n",
       "    <tr>\n",
       "      <th>126</th>\n",
       "      <td>hello seth  i just wanted to take a second to ...</td>\n",
       "      <td>not_reject</td>\n",
       "    </tr>\n",
       "    <tr>\n",
       "      <th>127</th>\n",
       "      <td>your free youmail plan includes  inapp transcr...</td>\n",
       "      <td>not_reject</td>\n",
       "    </tr>\n",
       "    <tr>\n",
       "      <th>128</th>\n",
       "      <td>support resources for developers at all level...</td>\n",
       "      <td>not_reject</td>\n",
       "    </tr>\n",
       "  </tbody>\n",
       "</table>\n",
       "</div>"
      ],
      "text/plain": [
       "                                                 Email      Status\n",
       "124   starting march   ebay will no longer offer se...  not_reject\n",
       "125  hi seth  i want to make finding a great remote...  not_reject\n",
       "126  hello seth  i just wanted to take a second to ...  not_reject\n",
       "127  your free youmail plan includes  inapp transcr...  not_reject\n",
       "128   support resources for developers at all level...  not_reject"
      ]
     },
     "execution_count": 5,
     "metadata": {},
     "output_type": "execute_result"
    }
   ],
   "source": [
    "import string\n",
    "import matplotlib.pyplot as plt\n",
    "import nltk\n",
    "\n",
    "\n",
    "# For the purposes of this assessment, all text processing actions in this cell have been removed except the replacement of newline characters by space characters\n",
    "\n",
    "# convert email text to lowercase\n",
    "df.Email = df.Email.apply(lambda x: x.lower())\n",
    "# remove punctuation\n",
    "df.Email = df.Email.apply(lambda x: x.translate(str.maketrans('','', string.punctuation)))\n",
    "# remove numbers\n",
    "df.Email = df.Email.apply(lambda x: x.translate(str.maketrans('','','1234567890')))\n",
    "# remove newline tags\n",
    "df.Email = df.Email.apply(lambda x: x.translate(str.maketrans('\\n',' ')))\n",
    "df.tail()\n",
    "\n"
   ]
  },
  {
   "cell_type": "code",
   "execution_count": 4,
   "metadata": {},
   "outputs": [
    {
     "data": {
      "image/png": "[encoded data removed]",
      "text/plain": [
       "<Figure size 640x480 with 1 Axes>"
      ]
     },
     "metadata": {},
     "output_type": "display_data"
    }
   ],
   "source": [
    "df.Status.value_counts().plot(kind='bar')\n",
    "plt.show()"
   ]
  },
  {
   "cell_type": "code",
   "execution_count": 8,
   "metadata": {},
   "outputs": [
    {
     "name": "stdout",
     "output_type": "stream",
     "text": [
      "['thank', 'you', 'for', 'applying', 'to', 'the', 'junior', 'software', 'developer', 'position', 'at', 'msc', 'technology', 'unfortunately', 'msc', 'technology', 'has', 'moved', 'to', 'the', 'next', 'step', 'in', 'their', 'hiring', 'process', 'and', 'your', 'application', 'was', 'not', 'selected', 'at', 'this', 'time']\n"
     ]
    }
   ],
   "source": [
    "# import nltk\n",
    "\n",
    "# # Download the punkt tokenizer models\n",
    "# nltk.download('punkt')\n",
    "\n",
    "# # Now you can safely tokenize your text\n",
    "# df['Tokens'] = [nltk.word_tokenize(e) for e in df.Email]\n",
    "\n",
    "\n",
    "\n",
    "# Add a column 'Tokens' to df, to hold the email contents as a list of tokens\n",
    "df['Tokens'] = [nltk.word_tokenize(e) for e in df.Email]\n",
    "\n",
    "print(df.Tokens[0])"
   ]
  },
  {
   "cell_type": "code",
   "execution_count": 5,
   "metadata": {
    "papermill": {
     "duration": 1.177122,
     "end_time": "2021-02-27T19:54:40.303234",
     "exception": false,
     "start_time": "2021-02-27T19:54:39.126112",
     "status": "completed"
    },
    "tags": []
   },
   "outputs": [],
   "source": [
    "#from sklearn.feature_extraction.text import CountVectorizer\n",
    "#from sklearn.feature_extraction.text import TfidfVectorizer, TfidfTransformer\n",
    "#from sklearn.preprocessing import LabelEncoder\n",
    "#from sklearn.naive_bayes import MultinomialNB\n",
    "#from sklearn.model_selection import train_test_split\n",
    "#from sklearn.metrics import confusion_matrix\n",
    "#from sklearn.model_selection import cross_val_score\n",
    "#from sklearn.metrics import classification_report\n",
    "\n",
    "# pull data into vectors to create collection of text/tokens\n",
    "#vectorizer = CountVectorizer()\n",
    "#x = vectorizer.fit_transform(df.Email)\n",
    "\n",
    "#encoder = LabelEncoder()\n",
    "#y = encoder.fit_transform(df.Status)\n",
    "\n",
    "# split into train and test sets\n",
    "#x_train, x_test, y_train, y_test = train_test_split(x, y, test_size=0.2)\n",
    "\n",
    "# Shape of sets\n",
    "#print(x_train.shape)\n",
    "#print(y_train.shape)\n",
    "#print(x_test.shape)\n",
    "#print(y_test.shape)"
   ]
  },
  {
   "cell_type": "code",
   "execution_count": 6,
   "metadata": {
    "papermill": {
     "duration": 0.026863,
     "end_time": "2021-02-27T19:54:40.338645",
     "exception": false,
     "start_time": "2021-02-27T19:54:40.311782",
     "status": "completed"
    },
    "tags": []
   },
   "outputs": [],
   "source": [
    "#%%time\n",
    "#nb = MultinomialNB()\n",
    "#nb.fit(x_train, y_train)"
   ]
  },
  {
   "cell_type": "code",
   "execution_count": 7,
   "metadata": {
    "papermill": {
     "duration": 0.022428,
     "end_time": "2021-02-27T19:54:40.370422",
     "exception": false,
     "start_time": "2021-02-27T19:54:40.347994",
     "status": "completed"
    },
    "tags": []
   },
   "outputs": [],
   "source": [
    "#def predict_reject(email):\n",
    "#    category_names = {'reject':'reject','not_reject':'not-reject'}\n",
    "#    cod = nb.predict(vectorizer.transform([email]))\n",
    "#    return category_names[encoder.inverse_transform(cod)[0]]\n",
    "\n",
    "#print(predict_reject('Unfortunately we will not be moving forward'))\n",
    "#print(predict_reject('I found some job listings you may be interested in'))\n",
    "#print(predict_reject('We were very fortunate to have a strong group of applicants to consider for this role and have recently filled this position. Unfortunately, because this role is no longer available, we will not be moving forward with your application.'))\n",
    "#print(predict_reject(''))\n"
   ]
  },
  {
   "cell_type": "code",
   "execution_count": 8,
   "metadata": {
    "papermill": {
     "duration": 0.170594,
     "end_time": "2021-02-27T19:54:40.550675",
     "exception": false,
     "start_time": "2021-02-27T19:54:40.380081",
     "status": "completed"
    },
    "tags": []
   },
   "outputs": [],
   "source": [
    "#from sklearn.linear_model import LogisticRegression\n",
    "#from sklearn.multiclass import OneVsRestClassifier\n",
    "\n",
    "# Init the classfifier\n",
    "#clf = OneVsRestClassifier(LogisticRegression())\n",
    "\n",
    "# Fit classifier to training data\n",
    "#clf.fit(x_train, y_train)\n",
    "\n",
    "# Print accuracy\n",
    "#print(f'Accuracy: {clf.score(x_test, y_test)}')"
   ]
  },
  {
   "cell_type": "code",
   "execution_count": 9,
   "metadata": {
    "papermill": {
     "duration": 0.027733,
     "end_time": "2021-02-27T19:54:40.591067",
     "exception": false,
     "start_time": "2021-02-27T19:54:40.563334",
     "status": "completed"
    },
    "tags": []
   },
   "outputs": [],
   "source": [
    "#x_test_clv_pred = clf.predict(x_test)\n",
    "#confusion_matrix(y_test, x_test_clv_pred)\n",
    "#print(classification_report(y_test, x_test_clv_pred, target_names=encoder.classes_))"
   ]
  },
  {
   "cell_type": "markdown",
   "metadata": {
    "papermill": {
     "duration": 0.010251,
     "end_time": "2021-02-27T19:54:40.612159",
     "exception": false,
     "start_time": "2021-02-27T19:54:40.601908",
     "status": "completed"
    },
    "tags": []
   },
   "source": [
    " - Inspiration and code samples from https://towardsdatascience.com/i-built-a-reject-not-reject-email-classifier-for-my-job-applications-844a3b6cd67e"
   ]
  },
  {
   "cell_type": "markdown",
   "metadata": {},
   "source": [
    "**************************************************************************************\n",
    "* End of code adapted from https://www.kaggle.com/code/sethpoly/detect-reject-emails\n",
    "**************************************************************************************"
   ]
  },
  {
   "cell_type": "markdown",
   "metadata": {},
   "source": [
    "# Coursework questions for Part A:\n",
    "\n",
    "For each question, please add your code to the empty code cell below the question, and please add any written answers/comments to the empty markdown cell below the question, as indicated. \n",
    "\n",
    "***You are allowed to add additional code markdown cells as needed below this point. Please do not edit any of the existing code and markdown already provided in this Jupyter notebook.***\n"
   ]
  },
  {
   "cell_type": "markdown",
   "metadata": {},
   "source": [
    "## Q1 [2 marks]\n",
    "\n",
    "Add a column to the `df` data frame named `Length`, which holds the number of tokens in the tokenised list representing that email (i.e. the number of items in the list in `df.Tokens` for each row)"
   ]
  },
  {
   "cell_type": "code",
   "execution_count": 9,
   "metadata": {},
   "outputs": [
    {
     "data": {
      "text/html": [
       "<div>\n",
       "<style scoped>\n",
       "    .dataframe tbody tr th:only-of-type {\n",
       "        vertical-align: middle;\n",
       "    }\n",
       "\n",
       "    .dataframe tbody tr th {\n",
       "        vertical-align: top;\n",
       "    }\n",
       "\n",
       "    .dataframe thead th {\n",
       "        text-align: right;\n",
       "    }\n",
       "</style>\n",
       "<table border=\"1\" class=\"dataframe\">\n",
       "  <thead>\n",
       "    <tr style=\"text-align: right;\">\n",
       "      <th></th>\n",
       "      <th>Email</th>\n",
       "      <th>Status</th>\n",
       "      <th>Tokens</th>\n",
       "      <th>Length</th>\n",
       "    </tr>\n",
       "  </thead>\n",
       "  <tbody>\n",
       "    <tr>\n",
       "      <th>0</th>\n",
       "      <td>thank you for applying to the junior software ...</td>\n",
       "      <td>reject</td>\n",
       "      <td>[thank, you, for, applying, to, the, junior, s...</td>\n",
       "      <td>35</td>\n",
       "    </tr>\n",
       "    <tr>\n",
       "      <th>1</th>\n",
       "      <td>thank you for your interest in the train to hi...</td>\n",
       "      <td>reject</td>\n",
       "      <td>[thank, you, for, your, interest, in, the, tra...</td>\n",
       "      <td>40</td>\n",
       "    </tr>\n",
       "    <tr>\n",
       "      <th>2</th>\n",
       "      <td>eth   thank you for your interest in exyn and ...</td>\n",
       "      <td>reject</td>\n",
       "      <td>[eth, thank, you, for, your, interest, in, exy...</td>\n",
       "      <td>125</td>\n",
       "    </tr>\n",
       "    <tr>\n",
       "      <th>3</th>\n",
       "      <td>thank you for your interest in the software en...</td>\n",
       "      <td>reject</td>\n",
       "      <td>[thank, you, for, your, interest, in, the, sof...</td>\n",
       "      <td>43</td>\n",
       "    </tr>\n",
       "    <tr>\n",
       "      <th>4</th>\n",
       "      <td>hi seth  thank you for your interest in pathai...</td>\n",
       "      <td>reject</td>\n",
       "      <td>[hi, seth, thank, you, for, your, interest, in...</td>\n",
       "      <td>70</td>\n",
       "    </tr>\n",
       "  </tbody>\n",
       "</table>\n",
       "</div>"
      ],
      "text/plain": [
       "                                               Email  Status  \\\n",
       "0  thank you for applying to the junior software ...  reject   \n",
       "1  thank you for your interest in the train to hi...  reject   \n",
       "2  eth   thank you for your interest in exyn and ...  reject   \n",
       "3  thank you for your interest in the software en...  reject   \n",
       "4  hi seth  thank you for your interest in pathai...  reject   \n",
       "\n",
       "                                              Tokens  Length  \n",
       "0  [thank, you, for, applying, to, the, junior, s...      35  \n",
       "1  [thank, you, for, your, interest, in, the, tra...      40  \n",
       "2  [eth, thank, you, for, your, interest, in, exy...     125  \n",
       "3  [thank, you, for, your, interest, in, the, sof...      43  \n",
       "4  [hi, seth, thank, you, for, your, interest, in...      70  "
      ]
     },
     "execution_count": 9,
     "metadata": {},
     "output_type": "execute_result"
    }
   ],
   "source": [
    "# Answer to Q1\n",
    "# Calculate the length of each tokenized list in the 'Tokens' column and store the results in a new 'Length' column\n",
    "df['Length'] = df['Tokens'].apply(len)\n",
    "\n",
    "# Display the updated DataFrame to verify the new column\n",
    "df.head()\n",
    "\n"
   ]
  },
  {
   "cell_type": "code",
   "execution_count": 10,
   "metadata": {},
   "outputs": [
    {
     "name": "stdout",
     "output_type": "stream",
     "text": [
      "0       35\n",
      "1       40\n",
      "2      125\n",
      "3       43\n",
      "4       70\n",
      "      ... \n",
      "124    119\n",
      "125     77\n",
      "126     51\n",
      "127     30\n",
      "128    127\n",
      "Name: Length, Length: 129, dtype: int64\n"
     ]
    }
   ],
   "source": [
    "#Do not edit this cell, except that you can uncomment the line below for testing your answer to this question\n",
    "print(df['Length'])"
   ]
  },
  {
   "cell_type": "markdown",
   "metadata": {},
   "source": [
    "## Q2. \n",
    "\n",
    "### Q2a [2 marks] \n",
    "\n",
    "Choose an appropriate visualisation to create a visualisation of the Length and Status data in `df`, after you have completed Q1.\n",
    "\n",
    "You can consult the lectures on visualisation and also use the following docs to help guide you and give you inspiration:\n",
    "\n",
    "https://matplotlib.org/stable/plot_types/basic/index.html\n",
    "https://realpython.com/pandas-plot-python/\n",
    "https://pandas.pydata.org/docs/reference/api/pandas.DataFrame.plot.html\n",
    "https://www.w3schools.com/python/matplotlib_intro.asp\n",
    "\n",
    "### Q2b [2 marks] \n",
    "\n",
    "Give a brief comment in the markdown box below about why you have chosen the visualisation you did, with reference to the type of data you are visualising.\n",
    "\n",
    "Add a comment answering the question: \"Do you see any patterns in your visualisation of the data frame data on email Length and email Status?\""
   ]
  },
  {
   "cell_type": "code",
   "execution_count": null,
   "metadata": {},
   "outputs": [],
   "source": [
    "# Answer to Q2a\n",
    "\n",
    "import matplotlib.pyplot as plt\n",
    "import numpy as np\n",
    "import seaborn as sns\n",
    "\n",
    "\n",
    "sns.boxplot(x='Status', y='Length', data=df)\n",
    "plt.xlabel('Status of Email')\n",
    "plt.ylabel('Length of Email')\n",
    "plt.show()\n",
    "\n",
    "#get the max number to tokens to see what i'm working with. \n",
    "max_tokens = df['Tokens'].apply(len).max()\n",
    "print(\"Max number of tokens:\", max_tokens)\n"
   ]
  },
  {
   "cell_type": "markdown",
   "metadata": {},
   "source": [
    "Write your answer to Q2b here:\n",
    "\n",
    "Boxplots are  useful for analysing quantitative data (like email length) alongside categorical data (such as Status) because they visually depict the distribution of email lengths across different categories, providing a better overview of the data.\n",
    "\n",
    "The emails that were accepted tend to vary more in length compared to those that were rejected. This variation could be attributed to the additional information included in acceptance emails, such as details about next steps, which is typically not necessary in rejection communications."
   ]
  },
  {
   "cell_type": "markdown",
   "metadata": {},
   "source": [
    "## Q3. [4 marks] \n",
    "\n",
    "We have defined a measure of `lexical richness` as: the number of unique tokens in a text, divided by the total number of tokens in that text. \n",
    "\n",
    "[We have also defined a second measure: how many times, on average, is each token used in the text? We will *not* use that measure here.]\n",
    "\n",
    "Add a column to the data frame `df` named `LexRich`, which calculates the lexical richness for each email in the dataset.\n",
    "\n"
   ]
  },
  {
   "cell_type": "code",
   "execution_count": 12,
   "metadata": {},
   "outputs": [
    {
     "data": {
      "text/html": [
       "<div>\n",
       "<style scoped>\n",
       "    .dataframe tbody tr th:only-of-type {\n",
       "        vertical-align: middle;\n",
       "    }\n",
       "\n",
       "    .dataframe tbody tr th {\n",
       "        vertical-align: top;\n",
       "    }\n",
       "\n",
       "    .dataframe thead th {\n",
       "        text-align: right;\n",
       "    }\n",
       "</style>\n",
       "<table border=\"1\" class=\"dataframe\">\n",
       "  <thead>\n",
       "    <tr style=\"text-align: right;\">\n",
       "      <th></th>\n",
       "      <th>Email</th>\n",
       "      <th>Status</th>\n",
       "      <th>Tokens</th>\n",
       "      <th>Length</th>\n",
       "      <th>LexRich</th>\n",
       "    </tr>\n",
       "  </thead>\n",
       "  <tbody>\n",
       "    <tr>\n",
       "      <th>0</th>\n",
       "      <td>thank you for applying to the junior software ...</td>\n",
       "      <td>reject</td>\n",
       "      <td>[thank, you, for, applying, to, the, junior, s...</td>\n",
       "      <td>35</td>\n",
       "      <td>0.857143</td>\n",
       "    </tr>\n",
       "    <tr>\n",
       "      <th>1</th>\n",
       "      <td>thank you for your interest in the train to hi...</td>\n",
       "      <td>reject</td>\n",
       "      <td>[thank, you, for, your, interest, in, the, tra...</td>\n",
       "      <td>40</td>\n",
       "      <td>0.825000</td>\n",
       "    </tr>\n",
       "    <tr>\n",
       "      <th>2</th>\n",
       "      <td>eth   thank you for your interest in exyn and ...</td>\n",
       "      <td>reject</td>\n",
       "      <td>[eth, thank, you, for, your, interest, in, exy...</td>\n",
       "      <td>125</td>\n",
       "      <td>0.680000</td>\n",
       "    </tr>\n",
       "    <tr>\n",
       "      <th>3</th>\n",
       "      <td>thank you for your interest in the software en...</td>\n",
       "      <td>reject</td>\n",
       "      <td>[thank, you, for, your, interest, in, the, sof...</td>\n",
       "      <td>43</td>\n",
       "      <td>0.720930</td>\n",
       "    </tr>\n",
       "    <tr>\n",
       "      <th>4</th>\n",
       "      <td>hi seth  thank you for your interest in pathai...</td>\n",
       "      <td>reject</td>\n",
       "      <td>[hi, seth, thank, you, for, your, interest, in...</td>\n",
       "      <td>70</td>\n",
       "      <td>0.728571</td>\n",
       "    </tr>\n",
       "  </tbody>\n",
       "</table>\n",
       "</div>"
      ],
      "text/plain": [
       "                                               Email  Status  \\\n",
       "0  thank you for applying to the junior software ...  reject   \n",
       "1  thank you for your interest in the train to hi...  reject   \n",
       "2  eth   thank you for your interest in exyn and ...  reject   \n",
       "3  thank you for your interest in the software en...  reject   \n",
       "4  hi seth  thank you for your interest in pathai...  reject   \n",
       "\n",
       "                                              Tokens  Length   LexRich  \n",
       "0  [thank, you, for, applying, to, the, junior, s...      35  0.857143  \n",
       "1  [thank, you, for, your, interest, in, the, tra...      40  0.825000  \n",
       "2  [eth, thank, you, for, your, interest, in, exy...     125  0.680000  \n",
       "3  [thank, you, for, your, interest, in, the, sof...      43  0.720930  \n",
       "4  [hi, seth, thank, you, for, your, interest, in...      70  0.728571  "
      ]
     },
     "execution_count": 12,
     "metadata": {},
     "output_type": "execute_result"
    }
   ],
   "source": [
    "# Answer for Q3\n",
    "\n",
    "import pandas as pd\n",
    "\n",
    "df['LexRich'] = df['Tokens'].apply(lambda x: len(set(x)) / len(x) if x else 0)\n",
    "\n",
    "# To display the DataFrame with the new 'LexRich' column\n",
    "df.head()"
   ]
  },
  {
   "cell_type": "code",
   "execution_count": 13,
   "metadata": {},
   "outputs": [
    {
     "name": "stdout",
     "output_type": "stream",
     "text": [
      "0      0.857143\n",
      "1      0.825000\n",
      "2      0.680000\n",
      "3      0.720930\n",
      "4      0.728571\n",
      "         ...   \n",
      "124    0.563025\n",
      "125    0.753247\n",
      "126    0.823529\n",
      "127    0.800000\n",
      "128    0.716535\n",
      "Name: LexRich, Length: 129, dtype: float64\n"
     ]
    }
   ],
   "source": [
    "#Do not edit this cell, except that you can uncomment the line below for testing your answer to this question\n",
    "print(df['LexRich'])"
   ]
  },
  {
   "cell_type": "markdown",
   "metadata": {},
   "source": [
    "## Q4. \n",
    "\n",
    "For Q4a and Q4b, note that we can access all the data in df with the Status = 'reject', using this code:\n",
    "\n",
    "print(df[df.Status=='reject'])\n",
    "\n",
    "###  Q4a: [4 marks] \n",
    "\n",
    "Calculate two variables, `lex_reject` and `lex_not_reject`\n",
    "* `lex_reject' = the mean lexical richness for the `reject' emails\n",
    "* `lex_not_reject' = the mean lexical richness for the `not_reject' emails\n",
    "\n",
    "###  Q4b: [2 marks] \n",
    "Comment briefly on the difference: what does this tell us about how the variety of vocabulary use differs between reject emails and not_reject emails? [approx 2-4 sentences]"
   ]
  },
  {
   "cell_type": "code",
   "execution_count": null,
   "metadata": {},
   "outputs": [],
   "source": [
    "# We can access all the data in df with the Status = 'reject', using this code:\n",
    "print(df[df.Status=='reject'])\n",
    "print(df[df.Status=='not_reject'])"
   ]
  },
  {
   "cell_type": "code",
   "execution_count": null,
   "metadata": {},
   "outputs": [],
   "source": [
    "# Answer for Q4a\n",
    "# Calculate the mean lexical richness for 'reject' emails\n",
    "lex_reject = df[df.Status == 'reject']['LexRich'].mean()\n",
    "\n",
    "# Calculate the mean lexical richness for 'not_reject' emails\n",
    "lex_not_reject = df[df.Status == 'not_reject']['LexRich'].mean()\n",
    "\n",
    "# Display the results\n",
    "print(f\"Mean lexical richness for 'reject' emails: {lex_reject}\")\n",
    "print(f\"Mean lexical richness for 'not_reject' emails: {lex_not_reject}\")\n"
   ]
  },
  {
   "cell_type": "code",
   "execution_count": 17,
   "metadata": {},
   "outputs": [
    {
     "name": "stdout",
     "output_type": "stream",
     "text": [
      "0.751956204324687\n",
      "0.7434657105338542\n"
     ]
    }
   ],
   "source": [
    "#Do not edit this cell, except that you can uncomment the line below for testing your answer to this question\n",
    "print(lex_reject)\n",
    "print(lex_not_reject)"
   ]
  },
  {
   "cell_type": "markdown",
   "metadata": {},
   "source": [
    "Write your answer for Q4b here:\n",
    "\n",
    "The analysis shows a subtle difference in the mean lengths of rejected and non-rejected emails. Additionally, the non-rejected emails exhibit a slightly broader range of vocabulary. However, this suggests that the overall vocabulary usage in emails is relatively consistent regardless of their acceptance or rejection status."
   ]
  },
  {
   "cell_type": "markdown",
   "metadata": {},
   "source": [
    "## Q5. [4 marks]\n",
    "\n",
    "Train a Word2Vec model called `model` using the following input parameters:\n",
    "* `sentences` as the data in `df.Tokens`\n",
    "* a `vector_size` of 100\n",
    "* a `window` of 5\n",
    "* a `min_count` of 1\n",
    "* a `workers` of 4\n",
    "\n",
    "Using your Word2Vec `model`, list the top 20 most similar tokens to the token `developer`."
   ]
  },
  {
   "cell_type": "code",
   "execution_count": null,
   "metadata": {},
   "outputs": [],
   "source": [
    "# Answer to Q5 \n",
    "from gensim.models import Word2Vec\n",
    "\n",
    "model = Word2Vec(sentences=df['Tokens'], vector_size=100, window=5, min_count=1, workers=4)\n",
    "\n",
    "#list the top 20 similar tokens to developer, inherited code from embeddings lecture\n",
    "sims = model.wv.most_similar('developer', topn=20)  \n",
    "for s in sims:\n",
    "    print(s)"
   ]
  },
  {
   "cell_type": "code",
   "execution_count": null,
   "metadata": {},
   "outputs": [],
   "source": []
  },
  {
   "cell_type": "markdown",
   "metadata": {},
   "source": [
    "# End of Part A"
   ]
  },
  {
   "cell_type": "markdown",
   "metadata": {},
   "source": [
    "If you wish to use this notebook for any code or calculations for Part B, please do so by adding cells below here."
   ]
  },
  {
   "cell_type": "code",
   "execution_count": null,
   "metadata": {},
   "outputs": [],
   "source": []
  }
 ],
 "metadata": {
  "kernelspec": {
   "display_name": "Python 3 (ipykernel)",
   "language": "python",
   "name": "python3"
  },
  "language_info": {
   "codemirror_mode": {
    "name": "ipython",
    "version": 3
   },
   "file_extension": ".py",
   "mimetype": "text/x-python",
   "name": "python",
   "nbconvert_exporter": "python",
   "pygments_lexer": "ipython3",
   "version": "3.11.7"
  },
  "papermill": {
   "default_parameters": {},
   "duration": 8.412623,
   "end_time": "2021-02-27T19:54:41.333676",
   "environment_variables": {},
   "exception": null,
   "input_path": "__notebook__.ipynb",
   "output_path": "__notebook__.ipynb",
   "parameters": {},
   "start_time": "2021-02-27T19:54:32.921053",
   "version": "2.2.2"
  }
 },
 "nbformat": 4,
 "nbformat_minor": 4
}
